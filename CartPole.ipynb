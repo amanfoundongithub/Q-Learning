{
 "cells": [
  {
   "cell_type": "code",
   "execution_count": 385,
   "metadata": {},
   "outputs": [],
   "source": [
    "import numpy as np \n",
    "import gymnasium as gym\n",
    "import pandas as pd\n",
    "import matplotlib.pyplot as plt \n",
    "from IPython.display import clear_output\n",
    "from time import sleep\n",
    "from tqdm import tqdm \n",
    "import random \n",
    "\n",
    "from warnings import filterwarnings\n",
    "filterwarnings(action='ignore', category=DeprecationWarning, message='`np.bool` is a deprecated alias')"
   ]
  },
  {
   "cell_type": "code",
   "execution_count": 386,
   "metadata": {},
   "outputs": [],
   "source": [
    "env = gym.make('CartPole-v1', render_mode = 'rgb_array').env"
   ]
  },
  {
   "cell_type": "code",
   "execution_count": 387,
   "metadata": {},
   "outputs": [],
   "source": [
    "alpha = 0.1\n",
    "gamma = 0.95 \n",
    "\n",
    "obs = [30, 30, 50, 50]\n",
    "window = np.array([0.25, 0.25, 0.01, 0.1]) "
   ]
  },
  {
   "cell_type": "code",
   "execution_count": 388,
   "metadata": {},
   "outputs": [
    {
     "data": {
      "text/plain": [
       "Box([-4.8000002e+00 -3.4028235e+38 -4.1887903e-01 -3.4028235e+38], [4.8000002e+00 3.4028235e+38 4.1887903e-01 3.4028235e+38], (4,), float32)"
      ]
     },
     "execution_count": 388,
     "metadata": {},
     "output_type": "execute_result"
    }
   ],
   "source": [
    "env.observation_space"
   ]
  },
  {
   "cell_type": "markdown",
   "metadata": {},
   "source": [
    "## Q Learning Cart Pole"
   ]
  },
  {
   "cell_type": "code",
   "execution_count": 389,
   "metadata": {},
   "outputs": [],
   "source": [
    "class Agent: \n",
    "    \n",
    "    def __init__(self, env, alpha, gamma):\n",
    "        \n",
    "        self.alpha = alpha \n",
    "        self.gamma = gamma \n",
    "        self.env   = env \n",
    "        \n",
    "        self.Q = np.random.uniform(low = 0, high= 1,size= obs + [env.action_space.n])\n",
    "        pass\n",
    "    \n",
    "    def get_discrete_state(self,state):\n",
    "        \n",
    "        discrete_state = state/window + np.array([15,10,1,10])\n",
    "        return tuple(discrete_state.astype(int))\n",
    "    # Discrete STATES only \n",
    "    def action(self, state):\n",
    "        return np.argmax(self.Q[state]) \n",
    "\n",
    "    def QUpdate(self, state, action, next_state, reward):\n",
    "        index = state + (action,)\n",
    "        # Q learning equation update\n",
    "        self.Q[index] = self.Q[index] + \\\n",
    "                                self.alpha * (reward + self.gamma * np.max(self.Q[next_state]) - self.Q[index])\n",
    "    \n",
    "    \n",
    "    def train(self, epoch = 100000, epsilon = 0.1):\n",
    "        \n",
    "        rewards = []\n",
    "        epoches = []\n",
    "        for i in tqdm(range(epoch)):\n",
    "            state = env.reset()[0]\n",
    "            epochs, reward_total = 0, 0\n",
    "            done = False\n",
    "            \n",
    "            while not done: \n",
    "                if random.uniform(0,1) <= epsilon:\n",
    "                    action = env.action_space.sample()\n",
    "                else: \n",
    "                    ds = self.get_discrete_state(state) \n",
    "                    action = self.action(ds) \n",
    "                \n",
    "            \n",
    "                ds = self.get_discrete_state(state) \n",
    "                next_state, reward, done, info, more_info = env.step(action)\n",
    "                reward_total += reward\n",
    "                ns = self.get_discrete_state(next_state)\n",
    "                \n",
    "                done = done or info \n",
    "                \n",
    "               \n",
    "                self.QUpdate(ds, action, ns, reward) \n",
    "\n",
    "                state = next_state\n",
    "                epochs += 1\n",
    "            \n",
    "            epoches.append(epochs)\n",
    "            rewards.append(reward_total)\n",
    "\n",
    "        print(\"Average rewards: \", np.mean(rewards))\n",
    "        return rewards\n",
    "            \n",
    "        \n",
    "            \n",
    "    def simulateRun(self):\n",
    "        state = env.reset()[0]\n",
    "        total_reward = 0\n",
    "        \n",
    "        done = False \n",
    "        while not done: \n",
    "            ds = self.get_discrete_state(state) \n",
    "            action = self.action(ds)\n",
    "    \n",
    "            next_state, reward, done, info , more_info = env.step(action)\n",
    "            \n",
    "            done = done or info \n",
    "            \n",
    "            if not done: \n",
    "                ns = self.get_discrete_state(next_state) \n",
    "                self.QUpdate(ds, action, ns, reward) \n",
    "            \n",
    "            total_reward += reward\n",
    "            state = next_state \n",
    "        \n",
    "        print(\"Reward earned: \", total_reward)\n",
    "        \n",
    "        return \n",
    "        \n",
    "            \n",
    "    \n",
    "    \n",
    "    "
   ]
  },
  {
   "cell_type": "code",
   "execution_count": 390,
   "metadata": {},
   "outputs": [],
   "source": [
    "agent = Agent(alpha = alpha, gamma = gamma, env = env)"
   ]
  },
  {
   "cell_type": "code",
   "execution_count": 391,
   "metadata": {},
   "outputs": [
    {
     "name": "stderr",
     "output_type": "stream",
     "text": [
      "100%|██████████| 100000/100000 [43:35<00:00, 38.24it/s] "
     ]
    },
    {
     "name": "stdout",
     "output_type": "stream",
     "text": [
      "Average rewards:  587.3707\n"
     ]
    },
    {
     "name": "stderr",
     "output_type": "stream",
     "text": [
      "\n"
     ]
    }
   ],
   "source": [
    "rewards = agent.train()"
   ]
  },
  {
   "cell_type": "code",
   "execution_count": 392,
   "metadata": {},
   "outputs": [
    {
     "name": "stdout",
     "output_type": "stream",
     "text": [
      "Reward earned:  6597.0\n"
     ]
    }
   ],
   "source": [
    "agent.simulateRun()"
   ]
  },
  {
   "cell_type": "code",
   "execution_count": 393,
   "metadata": {},
   "outputs": [
    {
     "data": {
      "image/png": "[encoded data removed]",
      "text/plain": [
       "<Figure size 1200x400 with 1 Axes>"
      ]
     },
     "metadata": {},
     "output_type": "display_data"
    }
   ],
   "source": [
    "fig, ax = plt.subplots(figsize = (12, 4))\n",
    "ax.set_title(\"Rewards accumulated after each episode\")\n",
    "ax.set_ylabel('Rewards')\n",
    "ax.set_xlabel('Episode')     \n",
    "pd.Series(rewards).plot(kind='line')\n",
    "plt.show()"
   ]
  },
  {
   "cell_type": "markdown",
   "metadata": {},
   "source": [
    "### Remarks:\n",
    "The rewards are not constantly increasing as expected. The initial state being random, the agent seems to learn about the system better as the time progresses. From an average of around 20 in the first 5000 steps, it has risen to around ~172 in the 40,000th stage and ending at 587, showing drastic learning improvement. The reward earned during simulation was 6597, showing the power of Q learning even for the continuous case.\n",
    "\n",
    "\n",
    "The agent's performance is however, prone to the hyperparameters, namely alpha and gamma. Alpha is the step size, and gamma is the discount factor"
   ]
  }
 ],
 "metadata": {
  "kernelspec": {
   "display_name": "Python 3",
   "language": "python",
   "name": "python3"
  },
  "language_info": {
   "codemirror_mode": {
    "name": "ipython",
    "version": 3
   },
   "file_extension": ".py",
   "mimetype": "text/x-python",
   "name": "python",
   "nbconvert_exporter": "python",
   "pygments_lexer": "ipython3",
   "version": "3.8.10"
  }
 },
 "nbformat": 4,
 "nbformat_minor": 2
}
